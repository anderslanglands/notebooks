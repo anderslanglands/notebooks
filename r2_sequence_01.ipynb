{
 "cells": [
  {
   "cell_type": "markdown",
   "metadata": {},
   "source": [
    "# R_2 sequence"
   ]
  },
  {
   "cell_type": "code",
   "execution_count": 36,
   "metadata": {},
   "outputs": [
    {
     "name": "stdout",
     "output_type": "stream",
     "text": [
      "3.1.1\n"
     ]
    },
    {
     "data": {
      "text/html": [
       "<script>requirejs.config({paths: { 'plotly': ['https://cdn.plot.ly/plotly-latest.min']},});if(!window.Plotly) {{require(['plotly'],function(plotly) {window.Plotly=plotly;});}}</script>"
      ],
      "text/vnd.plotly.v1+html": [
       "<script>requirejs.config({paths: { 'plotly': ['https://cdn.plot.ly/plotly-latest.min']},});if(!window.Plotly) {{require(['plotly'],function(plotly) {window.Plotly=plotly;});}}</script>"
      ]
     },
     "metadata": {},
     "output_type": "display_data"
    },
    {
     "data": {
      "application/vnd.jupyter.widget-view+json": {
       "model_id": "ff0ed0b7f2b54834b23c550edb2b956f",
       "version_major": 2,
       "version_minor": 0
      },
      "text/plain": [
       "aW50ZXJhY3RpdmUoY2hpbGRyZW49KEludFNsaWRlcih2YWx1ZT0xMjgsIGRlc2NyaXB0aW9uPXUnbicsIG1heD0xMDI0LCBtaW49MSksIEludFNsaWRlcih2YWx1ZT0xMSwgZGVzY3JpcHRpb27igKY=\n"
      ]
     },
     "metadata": {},
     "output_type": "display_data"
    },
    {
     "data": {
      "text/plain": [
       "<function __main__.draw_sequence>"
      ]
     },
     "execution_count": 36,
     "metadata": {},
     "output_type": "execute_result"
    }
   ],
   "source": [
    "from ipywidgets import interact, interactive, fixed, interact_manual\n",
    "import ipywidgets as widgets\n",
    "import numpy as np\n",
    "\n",
    "from plotly import __version__\n",
    "from plotly.offline import download_plotlyjs, init_notebook_mode, plot, iplot\n",
    "\n",
    "print __version__ # requires version >= 1.9.0\n",
    "init_notebook_mode(connected=True)\n",
    "import plotly.graph_objs as go\n",
    "\n",
    "\n",
    "def gamma(d):\n",
    "    x = 1.0\n",
    "    for i in range(20):\n",
    "        x = x - (pow(x, d+1) - x - 1) / ((d+1) * pow(x, d) - 1)\n",
    "    return x\n",
    "\n",
    "gamma(1)\n",
    "\n",
    "def draw_sequence(n=4, xd=0, yd=1):\n",
    "    d = max(xd, yd)+1\n",
    "    g = gamma(d)\n",
    "    #g = 2\n",
    "    #alpha = np.zeros(d)\n",
    "    #for j in range(d):\n",
    "    #    alpha[j] = pow(1/g, j+1) % 1\n",
    "    alpha = np.zeros(2)\n",
    "    alpha[0] = pow(1/g, xd+1) % 1\n",
    "    alpha[1] = pow(1/g, yd+1) % 1\n",
    "        \n",
    "    z = np.zeros((n, 2))\n",
    "\n",
    "    seed = 0.31417\n",
    "\n",
    "    for i in range(n):\n",
    "        z[i] = (seed + alpha * (i+1)) % 1\n",
    "\n",
    "        \n",
    "    layout = go.Layout(\n",
    "        xaxis=dict(range=[0.0, 1.0]),\n",
    "        yaxis=dict(range=[0.0, 1.0]),\n",
    "        width = 600,\n",
    "        height = 600\n",
    "    )\n",
    "    \n",
    "    data = [go.Scatter(x=z[:,0], y=z[:,1], mode='markers', marker=dict(color='blue', size=10, opacity=0.8))]\n",
    "    fig = go.Figure(data=data, layout=layout)\n",
    "\n",
    "    iplot(fig)\n",
    "    \n",
    "interact(draw_sequence, \n",
    "         n = widgets.IntSlider(min=1, max=1024, step=1, value=128), \n",
    "         xd=widgets.IntSlider(min=0, max=100, step=1, value=11),\n",
    "        yd=widgets.IntSlider(min=0, max=100, step=1, value=13),)"
   ]
  },
  {
   "cell_type": "code",
   "execution_count": null,
   "metadata": {},
   "outputs": [],
   "source": []
  },
  {
   "cell_type": "code",
   "execution_count": null,
   "metadata": {},
   "outputs": [],
   "source": []
  },
  {
   "cell_type": "code",
   "execution_count": null,
   "metadata": {},
   "outputs": [],
   "source": []
  },
  {
   "cell_type": "code",
   "execution_count": null,
   "metadata": {},
   "outputs": [],
   "source": []
  }
 ],
 "metadata": {
  "kernelspec": {
   "display_name": "Python 2",
   "language": "python",
   "name": "python2"
  },
  "language_info": {
   "codemirror_mode": {
    "name": "ipython",
    "version": 2
   },
   "file_extension": ".py",
   "mimetype": "text/x-python",
   "name": "python",
   "nbconvert_exporter": "python",
   "pygments_lexer": "ipython2",
   "version": "2.7.15"
  }
 },
 "nbformat": 4,
 "nbformat_minor": 2
}
